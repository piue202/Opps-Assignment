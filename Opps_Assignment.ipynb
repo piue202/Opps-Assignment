{
  "nbformat": 4,
  "nbformat_minor": 0,
  "metadata": {
    "colab": {
      "provenance": []
    },
    "kernelspec": {
      "name": "python3",
      "display_name": "Python 3"
    },
    "language_info": {
      "name": "python"
    }
  },
  "cells": [
    {
      "cell_type": "markdown",
      "source": [
        " # Python OOPs Questions\n",
        ""
      ],
      "metadata": {
        "id": "Mr78OL1x-PDq"
      }
    },
    {
      "cell_type": "markdown",
      "source": [
        "# What is Object-Oriented Programming (OOP)?\n",
        "  - bject-Oriented Programming (OOP) is a programming paradigm that revolves around the concept of objects and classes. It's a way of designing and organizing code that simulates real-world objects and systems.\n",
        "Key Principles of OOP:\n",
        "1. Encapsulation: Bundling data and methods that operate on that data into a single unit, called a class or object.\n",
        "2. Abstraction: Hiding the implementation details of an object from the outside world, exposing only the necessary information.\n",
        "3. Inheritance: Creating a new class based on an existing class, inheriting its properties and behavior.\n",
        "Basic OOP Concepts:\n",
        "1. Class: A blueprint or template that defines the properties and behavior of an object.\n",
        "2. Object: An instance of a class, which has its own set of attributes (data) and methods (functions).\n",
        "3. Attributes: Data members of a class or object, which describe its characteristics.\n",
        "4. Methods: Functions that belong to a class or object, which perform specific actions.\n",
        "Common OOP Terminology:\n",
        "1. Instantiation: Creating an object from a class.\n",
        "2. Composition: Combining objects to form a new object.\n",
        "3. Interface: A contract that specifies the methods a class must implement.\n",
        "Benefits of OOP:\n",
        "1. Modularity: OOP promotes modular code, making it easier to maintain and reuse.\n",
        "2. Reusability: Classes and objects can be reused in multiple contexts, reducing code duplication.\n",
        "3. Easier Maintenance: OOP's encapsulation and abstraction principles make it easier to modify and extend code."
      ],
      "metadata": {
        "id": "f1P3kOxD-dqr"
      }
    },
    {
      "cell_type": "markdown",
      "source": [
        "# What is a class in OOP?\n",
        "  - In Object-Oriented Programming (OOP), a class is a blueprint or template that defines the properties and behavior of an object. It's essentially a design pattern or a template that defines the characteristics and actions of an object."
      ],
      "metadata": {
        "id": "OMY07p4K_FM0"
      }
    },
    {
      "cell_type": "markdown",
      "source": [
        "# What is an object in OOP?\n",
        " - In Object-Oriented Programming (OOP), an object is an instance of a class, which represents a real-world entity or concept. Objects have their own set of attributes (data) and methods (functions) that describe and define their behavior."
      ],
      "metadata": {
        "id": "iPi-76Sk_if3"
      }
    },
    {
      "cell_type": "markdown",
      "source": [
        "# What is the difference between abstraction and encapsulation?\n",
        "  - Abstraction and encapsulation are two fundamental concepts in object-oriented programming (OOP) that are often confused with each other. While they're related, they serve different purposes:\n",
        "\n",
        "Abstraction:\n",
        "Abstraction is the process of exposing only the necessary information about an object or system while hiding its internal details. It's about defining an interface or a contract that specifies how to interact with an object without revealing its implementation.\n",
        "\n",
        "Example:\n",
        "A car's transmission system is a complex mechanism, but you don't need to know its internal workings to drive the car. The gearshift and pedals provide an abstract interface that allows you to interact with the transmission without knowing its details.\n",
        "\n",
        "Encapsulation:\n",
        "Encapsulation is the process of bundling data and methods that operate on that data within a single unit, making it harder for other parts of the program to access or modify the data directly. It's about hiding the internal state of an object and only exposing the necessary information through public methods."
      ],
      "metadata": {
        "id": "5mVygVKt_-68"
      }
    },
    {
      "cell_type": "markdown",
      "source": [
        "# What are dunder methods in Python?\n",
        "  - In Python, \"dunder\" methods are special methods that are surrounded by double underscores (i.e., __) on either side of the method name. These methods are also known as \"magic methods\" or \"special methods.\"\n",
        "\n",
        "Purpose of Dunder Methods:\n",
        "Dunder methods are used to emulate the behavior of built-in types in Python. They allow developers to define custom behavior for their objects, making them more intuitive and user-friendly.\n",
        "\n",
        "Examples of Dunder Methods:\n",
        "Here are a few examples of commonly used dunder methods:\n",
        "\n",
        "1. __init__:\n",
        "The __init__ method is a special method that's automatically called when an object of the class is instantiated. It's used to initialize the attributes of the class.\n",
        "\n",
        "2. __str__ and __repr__:\n",
        "The __str__ and __repr__ methods are used to provide a string representation of an object. The __str__ method returns a human-readable string, while the __repr__ method returns a string that's useful for debugging.\n",
        "\n",
        "3. __add__, __sub__, __mul__, etc.:\n",
        "These dunder methods are used to overload arithmetic operators. For example, the __add__ method is called when the + operator is used with an object.\n",
        "\n",
        "4. __len__:\n",
        "The __len__ method is used to return the length of an object, such as a list or a string.\n",
        "\n",
        "5. __getitem__, __setitem__, __delitem__:\n",
        "These dunder methods are used to implement indexing and slicing behavior for custom objects."
      ],
      "metadata": {
        "id": "_vnAy3OrCxq4"
      }
    },
    {
      "cell_type": "markdown",
      "source": [
        "# Explain the concept of inheritance in OOP.\n",
        "  -Inheritance is a fundamental concept in Object-Oriented Programming (OOP) that allows one class to inherit the properties and behavior of another class. The inheriting class, also known as the subclass or derived class, inherits all the fields and methods of the parent class, also known as the superclass or base class.\n",
        "\n",
        "Types of Inheritance:\n",
        "1. Single Inheritance: A subclass inherits from a single superclass.\n",
        "2. Multiple Inheritance: A subclass inherits from multiple superclasses.\n",
        "3. Multilevel Inheritance: A subclass inherits from a superclass that itself inherits from another superclass.\n",
        "4. Hierarchical Inheritance: A superclass is inherited by multiple subclasses.\n",
        "5. Hybrid Inheritance: A combination of multiple inheritance types.\n",
        "\n",
        "Benefits of Inheritance:\n",
        "1. Code Reusability: Inheritance promotes code reusability by allowing subclasses to inherit common attributes and methods from a superclass.\n",
        "2. Easier Maintenance: Changes to the superclass automatically propagate to all subclasses, making maintenance easier.\n",
        "3. Improved Readability: Inheritance helps organize code in a logical hierarchy, making it easier to understand and navigate."
      ],
      "metadata": {
        "id": "Kf3xT23cDC7D"
      }
    },
    {
      "cell_type": "markdown",
      "source": [
        "# What is polymorphism in OOP?\n",
        "  - Polymorphism is a fundamental concept in Object-Oriented Programming (OOP) that allows objects of different classes to be treated as objects of a common superclass. It enables objects to take on multiple forms, depending on the context in which they're used.\n",
        "\n",
        "Types of Polymorphism:\n",
        "1. Method Overloading: Multiple methods with the same name but different parameters can be defined.\n",
        "2. Method Overriding: A subclass provides a different implementation of a method that's already defined in its superclass.\n",
        "3. Operator Overloading: Operators such as +, -, *, / can be redefined for custom classes.\n",
        "4. Function Polymorphism: Functions can be defined to accept arguments of different types.\n",
        "\n",
        "Benefits of Polymorphism:\n",
        "1. Increased Flexibility: Polymorphism allows objects to adapt to different situations, making the code more flexible and reusable.\n",
        "2. Easier Maintenance: Changes to the code can be made more easily, as objects can be treated as if they were of a different class.\n",
        "3. Improved Readability: Polymorphism makes the code more intuitive, as objects can be used in a more natural and consistent way."
      ],
      "metadata": {
        "id": "f1pgryCeDSYx"
      }
    },
    {
      "cell_type": "markdown",
      "source": [
        "# How is encapsulation achieved in Python?\n",
        "  -Encapsulation in Python is achieved by using classes and objects to bundle data and methods that operate on that data. Python provides several ways to control access to an object's attributes, which helps to achieve encapsulation:\n",
        "\n",
        "1. Public Attributes:\n",
        "By default, all attributes in Python are public, meaning they can be accessed directly using the dot notation.\n",
        "\n",
        "2. Private Attributes:\n",
        "Python has a convention of prefixing attribute names with a single underscore (_) to indicate that they are intended to be private. However, this does not provide strict access control.\n",
        "\n",
        "3. Name Mangling:\n",
        "Python provides a mechanism called name mangling, which allows developers to create private attributes by prefixing them with double underscores (__). When an attribute is accessed, Python internally changes its name to include the class name, making it more difficult to access directly.\n",
        "\n",
        "4. Properties:\n",
        "Python's property decorator allows developers to create getter and setter methods for attributes, providing a way to control access to an object's internal state."
      ],
      "metadata": {
        "id": "c7UIcnGvDbwB"
      }
    },
    {
      "cell_type": "markdown",
      "source": [
        "# What is a constructor in Python?\n",
        "  - In Python, a constructor is a special method that's automatically called when an object of a class is instantiated. It's used to initialize the attributes of the class and set up the initial state of the object.\n",
        "\n",
        "Constructor Method:\n",
        "The constructor method in Python is defined using the __init__ keyword. It's the first method that's called when an object is created from a class.\n",
        "\n",
        "Syntax:\n",
        "\n",
        "class ClassName:\n",
        "    def __init__(self, parameters):\n",
        "        # Initialization code\n",
        "        pass\n",
        "\n",
        "\n",
        "Parameters:\n",
        "- self: A reference to the current instance of the class and is used to access variables and methods from the class.\n",
        "- parameters: These are the values that are passed to the constructor when an object is created."
      ],
      "metadata": {
        "id": "KfRkPH1DDlMP"
      }
    },
    {
      "cell_type": "markdown",
      "source": [
        "# What are class and static methods in Python?\n",
        "  - In Python, class methods and static methods are two types of methods that can be defined inside a class.\n",
        "\n",
        "Class Methods:\n",
        "Class methods are methods that are bound to the class rather than the instance of the class. They can access or modify class state, i.e., class variables. Class methods are defined using the @classmethod decorator.\n",
        "\n",
        "Syntax:\n",
        "\n",
        "class ClassName:\n",
        "    @classmethod\n",
        "    def method_name(cls, parameters):\n",
        "        # Method implementation\n",
        "        pass\n",
        "\n",
        "\n",
        "Characteristics:\n",
        "- Class methods receive the class as an implicit first argument, just like instance methods receive the instance.\n",
        "- Class methods can access and modify class variables.\n",
        "- Class methods are useful for creating alternative constructors or for implementing the Singleton design pattern.\n",
        "\n",
        "Static Methods:\n",
        "Static methods are methods that belong to a class rather than an instance of the class. They do not have access to the class or instance variables. Static methods are defined using the @staticmethod decorator.\n",
        "\n",
        "Syntax:\n",
        "\n",
        "class ClassName:\n",
        "    @staticmethod\n",
        "    def method_name(parameters):\n",
        "        # Method implementation\n",
        "        pass\n",
        "\n",
        "\n",
        "Characteristics:\n",
        "- Static methods do not receive an implicit first argument like instance methods or class methods.\n",
        "- Static methods cannot access or modify class or instance variables.\n",
        "- Static methods are useful for grouping related utility functions together."
      ],
      "metadata": {
        "id": "FpeozFGuDuNp"
      }
    },
    {
      "cell_type": "markdown",
      "source": [
        "# What is method overloading in Python?\n",
        "  - Method overloading is a feature in some programming languages that allows multiple methods with the same name to be defined, as long as they have different parameter lists. However, Python does not support method overloading in the classical sense.\n",
        "\n",
        "Why Python Doesn't Support Method Overloading:\n",
        "Python's dynamic typing and lack of explicit function signatures make it difficult to implement method overloading in the same way as statically-typed languages like Java or C++.\n",
        "\n",
        "Alternatives to Method Overloading:\n",
        "While Python doesn't support method overloading, there are alternative approaches to achieve similar behavior:\n",
        "\n",
        "1. Default Argument Values: You can define a method with default argument values, which allows for varying numbers of arguments.\n",
        "2. Variable Number of Arguments: You can use *args and **kwargs to define methods that accept a variable number of arguments.\n",
        "3. Single Dispatch: Python 3.4 and later versions provide the @singledispatch decorator from the functools module, which allows for single-dispatch generic functions."
      ],
      "metadata": {
        "id": "gu6KpMO2D7vq"
      }
    },
    {
      "cell_type": "markdown",
      "source": [
        "# What is a property decorator in Python?\n",
        "  - In Python, the @property decorator is a special type of decorator that allows you to customize access to instance data. It provides a way to implement getters, setters, and deleters for instance attributes, enabling you to control how these attributes are accessed and modified.\n",
        "\n",
        "Benefits of Using @property:\n",
        "1. Encapsulation: By using @property, you can hide the internal implementation details of an attribute and expose only the necessary information.\n",
        "2. Validation: You can add validation logic in the setter method to ensure that the attribute is assigned a valid value.\n",
        "3. Computed Attributes: You can create computed attributes that are calculated on the fly when accessed.\n",
        "\n",
        "Syntax:\n",
        "\n",
        "class ClassName:\n",
        "    def __init__(self, attribute):\n",
        "        self._attribute = attribute\n",
        "\n",
        "    @property\n",
        "    def attribute(self):\n",
        "        # Getter method\n",
        "        return self._attribute\n",
        "\n",
        "    @attribute.setter\n",
        "    def attribute(self, value):\n",
        "        # Setter method\n",
        "        self._attribute = value\n",
        "\n",
        "    @attribute.deleter\n",
        "    def attribute(self):\n",
        "        # Deleter method\n",
        "        del self._attribute"
      ],
      "metadata": {
        "id": "o41zT5qVEGbb"
      }
    },
    {
      "cell_type": "markdown",
      "source": [
        "# Why is polymorphism important in OOP?\n",
        "  - Polymorphism is a fundamental concept in Object-Oriented Programming (OOP) that allows objects of different classes to be treated as objects of a common superclass. This enables more flexibility, generic code, and easier maintenance.\n",
        "\n",
        "Benefits of Polymorphism:\n",
        "1. Increased Flexibility: Polymorphism allows objects of different classes to be used interchangeably, making the code more flexible and adaptable.\n",
        "2. Generic Code: Polymorphism enables the creation of generic code that can work with objects of different classes, reducing code duplication.\n",
        "3. Easier Maintenance: Polymorphism makes it easier to modify or extend the code without affecting existing functionality, as changes can be made at the superclass level.\n",
        "4. Improved Readability: Polymorphism promotes more intuitive and readable code, as objects can be used in a more natural and consistent way.\n",
        "\n",
        "Real-World Analogies:\n",
        "1. Vehicle Example: A car, truck, and motorcycle can all be treated as vehicles, despite their differences. This is similar to how polymorphism allows objects of different classes to be treated as objects of a common superclass.\n",
        "2. Shape Example: A circle, rectangle, and triangle can all be treated as shapes, with common attributes and methods. This is another example of polymorphism in action.\n"
      ],
      "metadata": {
        "id": "ZMqewwxHEYKb"
      }
    },
    {
      "cell_type": "markdown",
      "source": [
        "# What is an abstract class in Python?\n",
        "  - n Python, an abstract class is a class that cannot be instantiated on its own and is designed to be inherited by other classes. Abstract classes are useful for providing a blueprint or a base class for other classes to follow, while also allowing for customization and extension.\n",
        "\n",
        "Defining an Abstract Class:\n",
        "To define an abstract class in Python, you use the ABC (Abstract Base Classes) module and the @abstractmethod decorator. Here's an example:\n",
        "\n",
        "\n",
        "from abc import ABC, abstractmethod\n",
        "\n",
        "class AbstractClassExample(ABC):\n",
        "    @abstractmethod\n",
        "    def do_something(self):\n",
        "        pass\n",
        "\n",
        "\n",
        "Characteristics of Abstract Classes:\n",
        "1. Cannot be instantiated: Abstract classes cannot be instantiated directly. Instead, you must create a subclass that inherits from the abstract class.\n",
        "2. Abstract methods: Abstract classes can define abstract methods, which are methods declared with the @abstractmethod decorator. These methods must be implemented by any concrete subclass.\n",
        "3. Concrete methods: Abstract classes can also define concrete methods, which are methods that have an implementation."
      ],
      "metadata": {
        "id": "RTWIGxmrEoFg"
      }
    },
    {
      "cell_type": "markdown",
      "source": [
        "# What are the advantages of OOP?\n",
        " - programming paradigms. Here are some of the key benefits:\n",
        "\n",
        "1. Modularity:\n",
        "OOP allows you to break down a complex program into smaller, independent modules (classes) that can be developed, tested, and maintained separately.\n",
        "\n",
        "2. Code Reusability:\n",
        "OOP enables code reusability through inheritance, where a subclass can inherit the properties and behavior of a parent class, reducing code duplication.\n",
        "\n",
        "3. Easier Maintenance:\n",
        "OOP promotes easier maintenance by allowing you to modify or extend the behavior of an object without affecting other parts of the program.\n",
        "\n",
        "4. Improved Readability:\n",
        "OOP makes code more readable by organizing it into logical, self-contained units (classes) that clearly define the structure and behavior of objects.\n",
        "\n",
        "5. Enhanced Reliability:\n",
        "OOP promotes reliability by allowing you to encapsulate data and behavior within objects, reducing the risk of data corruption or misuse.\n",
        "\n",
        "6. Better Scalability:\n",
        "OOP enables better scalability by allowing you to add new features or functionality without modifying existing code.\n",
        "\n",
        "7. Improved Flexibility:\n",
        "OOP promotes flexibility by allowing you to create objects that can adapt to changing requirements or environments.\n",
        "\n",
        "8. Reduced Complexity:\n",
        "OOP helps reduce complexity by providing a clear, hierarchical organization of code, making it easier to understand and navigate.\n",
        "\n",
        "9. Easier Debugging:\n",
        "OOP facilitates easier debugging by allowing you to isolate and test individual objects or modules, reducing the effort required to identify and fix errors."
      ],
      "metadata": {
        "id": "o1w9OdKlEzbC"
      }
    },
    {
      "cell_type": "markdown",
      "source": [
        "# What is the difference between a class variable and an instance variable?\n",
        "  - n Python, class variables and instance variables are two types of variables that can be defined within a class.\n",
        "\n",
        "Class Variables:\n",
        "Class variables are variables that are shared by all instances of a class. They are defined inside the class but outside any instance method. Class variables are also known as static variables.\n",
        "\n",
        "Instance Variables:\n",
        "Instance variables, on the other hand, are variables that are unique to each instance of a class. They are defined inside an instance method, typically in the __init__ method.\n",
        "\n",
        "Key Differences:\n",
        "Here are the key differences between class variables and instance variables:\n",
        "\n",
        "1. Scope: Class variables have class scope, meaning they are shared by all instances of the class. Instance variables have instance scope, meaning each instance has its own copy.\n",
        "2. Definition: Class variables are defined inside the class but outside any instance method. Instance variables are defined inside an instance method.\n",
        "3. Access: Class variables can be accessed using the class name or an instance of the class. Instance variables can only be accessed using an instance of the class.\n",
        "4. Behavior: Class variables exhibit shared behavior, meaning changes made to a class variable affect all instances of the class. Instance variables exhibit independent behavior, meaning changes made to an instance variable only affect that specific instance.\n"
      ],
      "metadata": {
        "id": "FsCLX82jFPm6"
      }
    },
    {
      "cell_type": "markdown",
      "source": [
        "# What is multiple inheritance in Python?\n",
        " - Multiple inheritance in Python is a feature that allows a class to inherit properties and behavior from more than one parent class. This means that a child class can inherit attributes and methods from multiple parent classes, enabling it to combine their functionality.\n",
        "\n",
        "Key Aspects of Multiple Inheritance:\n",
        "1. Inheriting from multiple parents: A child class can inherit from multiple parent classes, allowing it to combine their attributes and methods.\n",
        "2. Method resolution order (MRO): Python uses a method resolution order (MRO) to resolve conflicts between methods with the same name from different parent classes.\n",
        "3. Diamond inheritance: Multiple inheritance can lead to diamond inheritance patterns, where a class inherits from two parents that have a common base class."
      ],
      "metadata": {
        "id": "TWW-Z_bSFYoO"
      }
    },
    {
      "cell_type": "markdown",
      "source": [
        "# Explain the purpose of ‘’__str__’ and ‘__repr__’ ‘ methods in Python.\n",
        "  - In Python, the __str__ and __repr__ methods are special methods that are used to provide a string representation of an object.\n",
        "\n",
        "Purpose of __str__:\n",
        "The __str__ method is used to return a human-readable string representation of an object. It's called when you use the print() function or the str() function on an object. The purpose of __str__ is to provide a concise and informative string that summarizes the object's state.\n",
        "\n",
        "Purpose of __repr__:\n",
        "The __repr__ method is used to return a string representation of an object that's useful for debugging and logging. It's called when you use the repr() function on an object. The purpose of __repr__ is to provide a detailed and unambiguous string that represents the object's state, including its type and attributes.\n",
        "\n",
        "Key differences:\n",
        "1. Human-readable vs. debug-readable: __str__ is meant to be human-readable, while __repr__ is meant to be debug-readable.\n",
        "2. Concise vs. detailed: __str__ should be concise, while __repr__ can be more detailed.\n",
        "3. Called by different functions: __str__ is called by print() and str(), while __repr__ is called by repr()."
      ],
      "metadata": {
        "id": "vxyAw94WFoPB"
      }
    },
    {
      "cell_type": "markdown",
      "source": [
        "# What is the significance of the ‘super()’ function in Python?\n",
        "  - The super() function in Python is used to access the methods and properties of a parent or sibling class. It allows you to override methods in a subclass while still calling the original method in the superclass.\n",
        "\n",
        "Significance of super():\n",
        "1. Method overriding: super() enables method overriding, where a subclass provides a different implementation of a method that's already defined in its superclass.\n",
        "2. Accessing superclass methods: super() allows you to call methods from the superclass, even if they've been overridden in the subclass.\n",
        "3. Cooperative multiple inheritance: super() facilitates cooperative multiple inheritance, where a subclass inherits from multiple superclasses and needs to call methods from each of them.\n",
        "\n",
        "How super() works:\n",
        "1. Unbound super: In Python 3.x, super() can be used without arguments. It automatically detects the current class and its superclass.\n",
        "2. Bound super: When super() is used with arguments, such as super(ClassName, self), it binds the superclass to the current instance."
      ],
      "metadata": {
        "id": "1Lsv81jJFylf"
      }
    },
    {
      "cell_type": "markdown",
      "source": [
        "# What is the significance of the __del__ method in Python?\n",
        "  - The __del__ method in Python is a special method that's automatically called when an object is about to be destroyed. This method is also known as the destructor.\n",
        "\n",
        "Significance of __del__:\n",
        "1. Resource cleanup: The __del__ method provides a way to clean up resources, such as closing files, releasing locks, or freeing up memory, when an object is no longer needed.\n",
        "2. Finalization: __del__ allows you to perform finalization tasks, such as logging, auditing, or sending notifications, when an object is about to be destroyed.\n",
        "3. Debugging: The __del__ method can be useful for debugging purposes, as it can help you detect issues related to object creation and destruction.\n",
        "\n",
        "How __del__ works:\n",
        "1. Garbage collection: In Python, objects are garbage-collected when they're no longer referenced. The __del__ method is called just before an object is destroyed by the garbage collector.\n",
        "2. Reference counting: Python uses a reference counting mechanism to manage object lifetimes. When an object's reference count reaches zero, the __del__ method is called"
      ],
      "metadata": {
        "id": "grRMswxxF7Eq"
      }
    },
    {
      "cell_type": "markdown",
      "source": [
        "# What is the difference between @staticmethod and @classmethod in Python?\n",
        "  - In Python, @staticmethod and @classmethod are two types of decorators that can be used to define methods within a class.\n",
        "\n",
        "Static Method (@staticmethod):\n",
        "A static method is a method that belongs to a class, rather than an instance of the class. It can be called without creating an instance of the class.\n",
        "\n",
        "Characteristics:\n",
        "- No access to class or instance variables: Static methods do not have access to the class or instance variables.\n",
        "- No implicit first argument: Static methods do not have an implicit first argument like instance methods or class methods.\n",
        "- Can be called on the class or instance: Static methods can be called on the class itself or on an instance of the class.\n",
        "\n",
        "Class Method (@classmethod):\n",
        "A class method is a method that is bound to the class and not the instance. It can access or modify class state.\n",
        "\n",
        "Characteristics:\n",
        "- Access to class variables: Class methods have access to the class variables.\n",
        "- Implicit first argument is the class: Class methods have an implicit first argument, which is the class itself.\n",
        "- Can be called on the class or instance: Class methods can be called on the class itself or on an instance of the class.\n",
        "\n",
        "Key Differences:\n",
        "1. Access to class variables: Class methods have access to class variables, while static methods do not.\n",
        "2. Implicit first argument: Class methods have an implicit first argument (the class), while static methods do not.\n",
        "3. Use cases: Class methods are used for alternative constructors or to implement the Singleton design pattern, while static methods are used for utility functions that do not depend on the class state."
      ],
      "metadata": {
        "id": "RgjKaaS9GFn9"
      }
    },
    {
      "cell_type": "markdown",
      "source": [
        "# How does polymorphism work in Python with inheritance?\n",
        "  - Polymorphism in Python is the ability of an object to take on multiple forms, depending on the context in which it's used. Inheritance is a key mechanism for achieving polymorphism in Python.\n",
        "\n",
        "How Polymorphism Works with Inheritance:\n",
        "1. Base Class: You define a base class with methods that can be overridden by subclasses.\n",
        "2. Subclass: You create a subclass that inherits from the base class and overrides some of its methods.\n",
        "3. Method Overriding: The subclass provides a different implementation of the overridden method, which is specific to its needs.\n",
        "4. Polymorphic Behavior: When you call a method on an object of the subclass, Python checks the object's class and calls the overridden method if it exists. If not, it calls the method from the base class."
      ],
      "metadata": {
        "id": "UtSdGxwUGOAp"
      }
    },
    {
      "cell_type": "markdown",
      "source": [
        "# What is method chaining in Python OOP?\n",
        "  - Method chaining is a technique in Python Object-Oriented Programming (OOP) where multiple methods are called on an object in a single statement, with each method returning the object itself, allowing the next method to be called.\n",
        "\n",
        "How Method Chaining Works:\n",
        "1. Return self: Each method in the chain returns the object itself (self).\n",
        "2. Call next method: The returned object is used to call the next method in the chain.\n",
        "\n",
        "Benefits of Method Chaining:\n",
        "1. Concise code: Method chaining allows you to write concise and readable code.\n",
        "2. Improved readability: By chaining methods together, you can create a clear and logical sequence of operations.\n",
        "3. Reduced temporary variables: Method chaining eliminates the need for temporary variables to store intermediate results."
      ],
      "metadata": {
        "id": "FWVOh5uxGYUS"
      }
    },
    {
      "cell_type": "markdown",
      "source": [
        "# What is the purpose of the __call__ method in Python?\n",
        "  - The __call__ method in Python is a special method that allows an object to be called as a function. It's also known as the \"call\" method or the \"invocation\" method.\n",
        "\n",
        "Purpose of __call__:\n",
        "The __call__ method serves several purposes:\n",
        "\n",
        "1. Object as a function: It enables an object to be used as a function, allowing you to call the object with arguments, just like a regular function.\n",
        "2. Customization: By implementing __call__, you can customize how an object responds to being called, enabling you to create complex, dynamic behaviors.\n",
        "3. Closure-like behavior: The __call__ method can be used to create objects that exhibit closure-like behavior, where the object \"remembers\" its state and can be called multiple times."
      ],
      "metadata": {
        "id": "HYMOV4DPGgdz"
      }
    },
    {
      "cell_type": "code",
      "source": [
        "# Create a parent class Animal with a method speak() that prints a generic message. Create a child class Dog\n",
        "class Animal:\n",
        "    def speak(self):\n",
        "        print(\"The animal makes a sound.\")\n",
        "\n",
        "class Dog(Animal):\n",
        "    def speak(self):\n",
        "        print(\"Bark!\")\n",
        "\n",
        "my_dog = Dog()\n",
        "my_dog.speak()\n",
        "animal = Animal()\n",
        "animal.speak()"
      ],
      "metadata": {
        "colab": {
          "base_uri": "https://localhost:8080/"
        },
        "id": "KKCjc0duGrrv",
        "outputId": "b44a225a-105d-4976-ede0-951cba37ebba"
      },
      "execution_count": 8,
      "outputs": [
        {
          "output_type": "stream",
          "name": "stdout",
          "text": [
            "Bark!\n",
            "The animal makes a sound.\n"
          ]
        }
      ]
    },
    {
      "cell_type": "code",
      "source": [
        "# Demonstrate polymorphism by creating a base class Bird with a method fly(). Create two derived classes\n",
        "\n",
        "class Bird: #Removed extra spaces before the class definition\n",
        "    def fly(self):\n",
        "        print(\"Birds can fly in different ways.\")\n",
        "\n",
        "class Sparrow(Bird):\n",
        "    def fly(self):\n",
        "        print(\"Sparrow flies high in the sky.\")\n",
        "\n",
        "class Penguin(Bird):\n",
        "    def fly(self):\n",
        "        print(\"Penguins cannot fly but can swim excellently.\")\n",
        "\n",
        "# Demonstrating polymorphism\n",
        "def demonstrate_flight(bird):\n",
        "    bird.fly()\n",
        "\n",
        "# Example usage\n",
        "sparrow = Sparrow()\n",
        "penguin = Penguin()\n",
        "\n",
        "demonstrate_flight(sparrow)  # Output: Sparrow flies high in the sky.\n",
        "demonstrate_flight(penguin)  # Output: Penguins cannot fly but can swim excellently."
      ],
      "metadata": {
        "colab": {
          "base_uri": "https://localhost:8080/"
        },
        "id": "wwL9gXGKLVHV",
        "outputId": "733b9925-161c-4c67-d338-0f7c8acca3c6"
      },
      "execution_count": 21,
      "outputs": [
        {
          "output_type": "stream",
          "name": "stdout",
          "text": [
            "Sparrow flies high in the sky.\n",
            "Penguins cannot fly but can swim excellently.\n"
          ]
        }
      ]
    },
    {
      "cell_type": "code",
      "source": [
        "# #  Write a program to demonstrate encapsulation by creating a class BankAccount with private attributes\n",
        "# balance and methods to deposit, withdraw, and check balance.\n",
        "class BankAccount:\n",
        "    def __init__(self, initial_balance):\n",
        "        self.__balance = initial_balance  # Private attribute\n",
        "\n",
        "    def deposit(self, amount):\n",
        "        if amount > 0:\n",
        "            self.__balance += amount\n",
        "            print(f\"Deposited: ${amount}\")\n",
        "        else:\n",
        "            print(\"Invalid deposit amount.\")\n",
        "\n",
        "    def withdraw(self, amount):\n",
        "        if 0 < amount <= self.__balance:\n",
        "            self.__balance -= amount\n",
        "            print(f\"Withdrawn: ${amount}\")\n",
        "        else:\n",
        "            print(\"Insufficient balance or invalid amount.\")\n",
        "\n",
        "    def check_balance(self):\n",
        "        print(f\"Current Balance: ${self.__balance}\")\n",
        "\n",
        "# Example usage\n",
        "account = BankAccount(500)\n",
        "account.deposit(200)\n",
        "account.withdraw(100)\n",
        "account.check_balance()\n",
        "\n",
        "# Attempting to access private attribute (will cause an error)\n",
        "# print(account.__balance)  # Uncommenting this line will raise an AttributeError"
      ],
      "metadata": {
        "colab": {
          "base_uri": "https://localhost:8080/"
        },
        "id": "dPKEcUkoLqoN",
        "outputId": "44e6f428-1e81-4ce0-f187-240a85b6a689"
      },
      "execution_count": 26,
      "outputs": [
        {
          "output_type": "stream",
          "name": "stdout",
          "text": [
            "Deposited: $200\n",
            "Withdrawn: $100\n",
            "Current Balance: $600\n"
          ]
        }
      ]
    },
    {
      "cell_type": "code",
      "source": [
        "# Demonstrate runtime polymorphism using a method play() in a base class Instrument. Derive classes Guitar\n",
        "# and Piano that implement their own version of play().\n",
        "class Instrument:\n",
        "    def play(self):\n",
        "        print(\"Playing an instrument.\")\n",
        "\n",
        "class Guitar(Instrument):\n",
        "    def play(self):\n",
        "        print(\"Strumming the guitar.\")\n",
        "\n",
        "class Piano(Instrument):\n",
        "    def play(self):\n",
        "        print(\"Playing the piano keys.\")\n",
        "\n",
        "# Demonstrating runtime polymorphism\n",
        "def perform(instrument):\n",
        "    instrument.play()\n",
        "\n",
        "# Example usage\n",
        "guitar = Guitar()\n",
        "piano = Piano()\n",
        "\n",
        "perform(guitar)  # Output: Strumming the guitar.\n",
        "perform(piano)   # Output: Playing the piano keys.\n",
        "\n",
        "# The following block of code was likely copy-pasted accidentally.\n",
        "# Removing it resolves the IndentationError.\n",
        "# print(\"Playing an instrument.\")\n",
        "\n",
        "# This block of code was also likely a duplicate. Removing it.\n",
        "# class Guitar(Instrument):\n",
        "#     def play(self):\n",
        "#         print(\"Strumming the guitar.\")\n",
        "\n",
        "# class Piano(Instrument):\n",
        "#     def play(self):\n",
        "#         print(\"Playing the piano keys.\")\n",
        "\n",
        "# # Demonstrating runtime polymorphism\n",
        "# def perform(instrument):\n",
        "#     instrument.play()\n",
        "\n",
        "# # Example usage\n",
        "# guitar = Guitar()\n",
        "# piano = Piano()\n",
        "\n",
        "# perform(guitar)  # Output: Strumming the guitar.\n",
        "# perform(piano)   # Output: Playing the piano keys."
      ],
      "metadata": {
        "colab": {
          "base_uri": "https://localhost:8080/"
        },
        "id": "1pUvyaEwM1pW",
        "outputId": "5b98297a-600e-4804-bc19-9f290d0175df"
      },
      "execution_count": 29,
      "outputs": [
        {
          "output_type": "stream",
          "name": "stdout",
          "text": [
            "Strumming the guitar.\n",
            "Playing the piano keys.\n"
          ]
        }
      ]
    },
    {
      "cell_type": "code",
      "source": [
        "# Create a class MathOperations with a class method add_numbers() to add two numbers and a static\n",
        "# method subtract_numbers() to subtract two numbers.\n",
        "class MathOperations:\n",
        "    @classmethod\n",
        "    def add_numbers(cls, a, b):\n",
        "        return a + b\n",
        "\n",
        "    @staticmethod\n",
        "    def subtract_numbers(a, b):\n",
        "        return a - b\n",
        "\n",
        "# Example usage\n",
        "sum_result = MathOperations.add_numbers(10, 5)\n",
        "diff_result = MathOperations.subtract_numbers(10, 5)\n",
        "\n",
        "print(f\"Sum: {sum_result}\")        # Output: Sum: 15\n",
        "print(f\"Difference: {diff_result}\") # Output: Difference: 5\n",
        "\n",
        "# The following block of code was likely copy-pasted accidentally.\n",
        "# Removing it resolves the IndentationError.\n",
        "#     def add_numbers(cls, a, b):\n",
        "#         return a + b\n",
        "\n",
        "#     @staticmethod\n",
        "#     def subtract_numbers(a, b):\n",
        "#         return a - b\n",
        "\n",
        "# # Example usage\n",
        "# sum_result = MathOperations.add_numbers(10, 5)\n",
        "# diff_result = MathOperations.subtract_numbers(10, 5)\n",
        "\n",
        "# print(f\"Sum: {sum_result}\")        # Output: Sum: 15\n",
        "# print(f\"Difference: {diff_result}\") # Output: Difference: 5"
      ],
      "metadata": {
        "colab": {
          "base_uri": "https://localhost:8080/"
        },
        "id": "oPECh7VQNanx",
        "outputId": "916a8e6b-a5a7-463b-a6d3-37c05c5e8bef"
      },
      "execution_count": 33,
      "outputs": [
        {
          "output_type": "stream",
          "name": "stdout",
          "text": [
            "Sum: 15\n",
            "Difference: 5\n"
          ]
        }
      ]
    },
    {
      "cell_type": "code",
      "source": [
        "# Implement a class Person with a class method to count the total number of persons created.\n",
        "class Person: #Removed extra space before the class definition\n",
        "    count = 0  # Class variable to keep track of number of persons\n",
        "\n",
        "    def __init__(self, name):\n",
        "        self.name = name\n",
        "        Person.count += 1  # Increment count when a new person is created\n",
        "\n",
        "    @classmethod\n",
        "    def get_person_count(cls):\n",
        "        return cls.count\n",
        "\n",
        "# Example usage\n",
        "p1 = Person(\"Alice\")\n",
        "p2 = Person(\"Bob\")\n",
        "p3 = Person(\"Charlie\")\n",
        "\n",
        "print(f\"Total persons created: {Person.get_person_count()}\")  # Output: Total persons created: 3"
      ],
      "metadata": {
        "colab": {
          "base_uri": "https://localhost:8080/"
        },
        "id": "-58ctGo6N3k9",
        "outputId": "c552d9ba-93a4-41b4-bc72-1c94b26e1df7"
      },
      "execution_count": 35,
      "outputs": [
        {
          "output_type": "stream",
          "name": "stdout",
          "text": [
            "Total persons created: 3\n"
          ]
        }
      ]
    },
    {
      "cell_type": "code",
      "source": [
        "# Write a class Fraction with attributes numerator and denominator. Override the str method to display the\n",
        "# fraction as \"numerator/denominator\".\n",
        "class Fraction:\n",
        "    def __init__(self, numerator, denominator):\n",
        "        if denominator == 0:\n",
        "            raise ValueError(\"Denominator cannot be zero.\")\n",
        "        self.numerator = numerator\n",
        "        self.denominator = denominator\n",
        "\n",
        "    def __str__(self):\n",
        "        return f\"{self.numerator}/{self.denominator}\"\n",
        "\n",
        "# Example usage\n",
        "frac1 = Fraction(3, 4)\n",
        "frac2 = Fraction(5, 8)\n",
        "\n",
        "print(frac1)  # Output: 3/4\n",
        "print(frac2)  # Output: 5/8"
      ],
      "metadata": {
        "colab": {
          "base_uri": "https://localhost:8080/"
        },
        "id": "z82LC9p-OIbn",
        "outputId": "246ff16e-484a-4a6e-d7be-dba86c1c093b"
      },
      "execution_count": 39,
      "outputs": [
        {
          "output_type": "stream",
          "name": "stdout",
          "text": [
            "3/4\n",
            "5/8\n"
          ]
        }
      ]
    },
    {
      "cell_type": "code",
      "source": [
        "# Demonstrate operator overloading by creating a class Vector and overriding the add method to add two vectors.\n",
        "class Vector:\n",
        "    def __init__(self, x, y):\n",
        "        self.x = x\n",
        "        self.y = y\n",
        "\n",
        "    def __add__(self, other):\n",
        "        if not isinstance(other, Vector):\n",
        "            return NotImplemented\n",
        "        return Vector(self.x + other.x, self.y + other.y)\n",
        "\n",
        "    def __str__(self):\n",
        "        return f\"({self.x}, {self.y})\"\n",
        "\n",
        "\n",
        "v1 = Vector(2, 3)\n",
        "v2 = Vector(4, 5)\n",
        "v3 = v1 + v2\n",
        "\n",
        "print(v3)"
      ],
      "metadata": {
        "colab": {
          "base_uri": "https://localhost:8080/"
        },
        "id": "D2msxZdYO9Mg",
        "outputId": "99190e58-6b57-4f58-ade4-af0b5050b2df"
      },
      "execution_count": 41,
      "outputs": [
        {
          "output_type": "stream",
          "name": "stdout",
          "text": [
            "(6, 8)\n"
          ]
        }
      ]
    },
    {
      "cell_type": "code",
      "source": [
        "#  Create a class Person with attributes name and age. Add a method greet() that prints \"Hello, my name is{name} and I am {age} years old.{name} and I am {age} years old.\n",
        "class Person: # Removed extra space before the class definition\n",
        "    def __init__(self, name, age):\n",
        "        self.name = name\n",
        "        self.age = age\n",
        "\n",
        "    def greet(self):\n",
        "        print(f\"Hello, my name is {self.name} and I am {self.age} years old.\")\n",
        "\n",
        "\n",
        "p1 = Person(\"Alice\", 25)\n",
        "p2 = Person(\"Bob\", 30)\n",
        "\n",
        "p1.greet()\n",
        "p2.greet()"
      ],
      "metadata": {
        "colab": {
          "base_uri": "https://localhost:8080/"
        },
        "id": "glyEQCjoPg3q",
        "outputId": "954cb3e4-adb1-4700-fa3d-b963244368b7"
      },
      "execution_count": 43,
      "outputs": [
        {
          "output_type": "stream",
          "name": "stdout",
          "text": [
            "Hello, my name is Alice and I am 25 years old.\n",
            "Hello, my name is Bob and I am 30 years old.\n"
          ]
        }
      ]
    },
    {
      "cell_type": "code",
      "source": [
        "#  Implement a class Student with attributes name and grades. Create a method average_grade() to compute\n",
        "# the average of the grades.\n",
        "class Student:\n",
        "    def __init__(self, name, grades):\n",
        "        self.name = name\n",
        "        self.grades = grades  # List of grades\n",
        "\n",
        "    def average_grade(self):\n",
        "        if not self.grades:\n",
        "            return 0  # Avoid division by zero\n",
        "        return sum(self.grades) / len(self.grades)\n",
        "\n",
        "    def display_info(self):\n",
        "        print(f\"Student: {self.name}, Average Grade: {self.average_grade():.2f}\")\n",
        "\n",
        "# Example usage\n",
        "s1 = Student(\"Alice\", [85, 90, 78, 92])\n",
        "s2 = Student(\"Bob\", [88, 76, 95, 89])\n",
        "\n",
        "s1.display_info()  # Output: Student: Alice, Average Grade: 86.25\n",
        "s2.display_info()  # Output: Student: Bob, Average Grade: 87.00"
      ],
      "metadata": {
        "colab": {
          "base_uri": "https://localhost:8080/"
        },
        "id": "CUx78bdqPytF",
        "outputId": "ab74944b-d2ca-4741-9054-fd8d25846897"
      },
      "execution_count": 47,
      "outputs": [
        {
          "output_type": "stream",
          "name": "stdout",
          "text": [
            "Student: Alice, Average Grade: 86.25\n",
            "Student: Bob, Average Grade: 87.00\n"
          ]
        }
      ]
    },
    {
      "cell_type": "code",
      "source": [
        "#  Implement a class Student with attributes name and grades. Create a method average_grade() to compute\n",
        "# the average of the grades.\n",
        "class Student:\n",
        "    def __init__(self, name, grades):\n",
        "        self.name = name\n",
        "        self.grades = grades  # List of grades\n",
        "\n",
        "    def average_grade(self):\n",
        "        return sum(self.grades) / len(self.grades) if self.grades else 0  # Avoid division by zero\n",
        "\n",
        "    def display_info(self):\n",
        "        print(f\"Student: {self.name}, Average Grade: {self.average_grade():.2f}\")\n",
        "\n",
        "\n",
        "s1 = Student(\"Alice\", [85, 90, 78, 92])\n",
        "s2 = Student(\"Bob\", [88, 76, 95, 89])\n",
        "s3 = Student(\"Charlie\", [])\n",
        "\n",
        "s1.display_info()\n",
        "s2.display_info()\n",
        "s3.display_info()"
      ],
      "metadata": {
        "colab": {
          "base_uri": "https://localhost:8080/"
        },
        "id": "_j3utQKqQerP",
        "outputId": "99928391-2851-48ad-8a8b-bf5df62d4bb3"
      },
      "execution_count": 52,
      "outputs": [
        {
          "output_type": "stream",
          "name": "stdout",
          "text": [
            "Student: Alice, Average Grade: 86.25\n",
            "Student: Bob, Average Grade: 87.00\n",
            "Student: Charlie, Average Grade: 0.00\n"
          ]
        }
      ]
    },
    {
      "cell_type": "code",
      "source": [
        "#  Create a class Rectangle with methods set_dimensions() to set the dimensions and area() to calculate the area.\n",
        "\n",
        "\n",
        "class Rectangle:\n",
        "    def __init__(self, length=1, width=1):\n",
        "        self.length = length\n",
        "        self.width = width\n",
        "\n",
        "    def set_dimensions(self, length, width):\n",
        "        if length > 0 and width > 0:\n",
        "            self.length = length\n",
        "            self.width = width\n",
        "        else:\n",
        "            print(\"Length and width must be positive values.\")\n",
        "\n",
        "    def area(self):\n",
        "        return self.length * self.width\n",
        "\n",
        "    def display_info(self):\n",
        "        print(f\"Rectangle: Length = {self.length}, Width = {self.width}, Area = {self.area()}\")\n",
        "\n",
        "# Example usage\n",
        "rect = Rectangle()\n",
        "rect.display_info()  # Default values\n",
        "\n",
        "rect.set_dimensions(5, 10)\n",
        "rect.display_info()  # Updated values\n"
      ],
      "metadata": {
        "colab": {
          "base_uri": "https://localhost:8080/"
        },
        "id": "_nlHJWZ9TfpX",
        "outputId": "145b6bf8-f156-4a51-e158-d29d9dc66b0a"
      },
      "execution_count": 59,
      "outputs": [
        {
          "output_type": "stream",
          "name": "stdout",
          "text": [
            "Rectangle: Length = 1, Width = 1, Area = 1\n",
            "Rectangle: Length = 5, Width = 10, Area = 50\n"
          ]
        }
      ]
    },
    {
      "cell_type": "code",
      "source": [
        "# Create a class Employee with a method calculate_salary() that computes the salary based on hours worked\n",
        "# and hourly rate. Create a derived class Manager that adds a bonus to the salary\n",
        "class Employee:\n",
        "    def __init__(self, name, hours_worked, hourly_rate):\n",
        "        self.name = name\n",
        "        self.hours_worked = hours_worked\n",
        "        self.hourly_rate = hourly_rate\n",
        "\n",
        "    def calculate_salary(self):\n",
        "        return self.hours_worked * self.hourly_rate\n",
        "\n",
        "    def display_info(self):\n",
        "        print(f\"Employee: {self.name}, Salary: ${self.calculate_salary():.2f}\")\n",
        "\n",
        "class Manager(Employee):\n",
        "    def __init__(self, name, hours_worked, hourly_rate, bonus):\n",
        "        super().__init__(name, hours_worked, hourly_rate)\n",
        "        self.bonus = bonus\n",
        "\n",
        "    def calculate_salary(self):\n",
        "        return super().calculate_salary() + self.bonus\n",
        "\n",
        "    def display_info(self):\n",
        "        print(f\"Manager: {self.name}, Salary (with bonus): ${self.calculate_salary():.2f}\")\n",
        "\n",
        "# Example usage\n",
        "emp = Employee(\"Alice\", 40, 20)\n",
        "manager = Manager(\"Bob\", 40, 30, 500)\n",
        "\n",
        "emp.display_info()       # Output: Employee: Alice, Salary: $800.00\n",
        "manager.display_info()   # Output: Manager: Bob, Salary (with bonus): $1700.00"
      ],
      "metadata": {
        "colab": {
          "base_uri": "https://localhost:8080/"
        },
        "id": "IH2LfU6sT-vc",
        "outputId": "87f66dc2-3da4-4341-e2f0-891cbce304e3"
      },
      "execution_count": 66,
      "outputs": [
        {
          "output_type": "stream",
          "name": "stdout",
          "text": [
            "Employee: Alice, Salary: $800.00\n",
            "Manager: Bob, Salary (with bonus): $1700.00\n"
          ]
        }
      ]
    },
    {
      "cell_type": "code",
      "source": [
        "#  Create a class Product with attributes name, price, and quantity. Implement a method total_price() that\n",
        "# calculates the total price of the product.\n",
        "class Product:\n",
        "    def __init__(self, name, price, quantity):\n",
        "        self.name = name\n",
        "        self.price = price\n",
        "        self.quantity = quantity\n",
        "\n",
        "    def total_price(self):\n",
        "        return self.price * self.quantity\n",
        "\n",
        "    def display_info(self):\n",
        "        print(f\"Product: {self.name}, Price: ${self.price:.2f}, Quantity: {self.quantity}, Total Price: ${self.total_price():.2f}\")\n",
        "\n",
        "\n",
        "p1 = Product(\"Laptop\", 800, 2)\n",
        "p2 = Product(\"Smartphone\", 500, 3)\n",
        "\n",
        "p1.display_info()\n",
        "p2.display_info()"
      ],
      "metadata": {
        "colab": {
          "base_uri": "https://localhost:8080/"
        },
        "id": "hhld1hKqUrid",
        "outputId": "fa1e4e84-d420-4d5b-e9a6-491fa10c94d8"
      },
      "execution_count": 68,
      "outputs": [
        {
          "output_type": "stream",
          "name": "stdout",
          "text": [
            "Product: Laptop, Price: $800.00, Quantity: 2, Total Price: $1600.00\n",
            "Product: Smartphone, Price: $500.00, Quantity: 3, Total Price: $1500.00\n"
          ]
        }
      ]
    },
    {
      "cell_type": "code",
      "source": [
        "# Create a class Animal with an abstract method sound(). Create two derived classes Cow and Sheep that\n",
        "# implement the sound() method.\n",
        "from abc import ABC, abstractmethod\n",
        "\n",
        "class Animal(ABC):\n",
        "    @abstractmethod\n",
        "    def sound(self):\n",
        "        pass\n",
        "\n",
        "class Cow(Animal):\n",
        "    def sound(self):\n",
        "        return \"Moo\"\n",
        "\n",
        "class Sheep(Animal):\n",
        "    def sound(self):\n",
        "        return \"Baa\"\n",
        "\n",
        "# Example usage\n",
        "cow = Cow()\n",
        "sheep = Sheep()\n",
        "\n",
        "print(f\"Cow: {cow.sound()}\")   # Output: Cow: Moo\n",
        "print(f\"Sheep: {sheep.sound()}\") # Output: Sheep: Baa\"\n",
        "class Animal(ABC):\n",
        "    @abstractmethod\n",
        "    def sound(self):\n",
        "        pass\n",
        "\n",
        "class Cow(Animal):\n",
        "    def sound(self):\n",
        "        return \"Moo\"\n",
        "\n",
        "class Sheep(Animal):\n",
        "    def sound(self):\n",
        "        return \"Baa\"\n",
        "\n",
        "# Example usage\n",
        "cow = Cow()\n",
        "sheep = Sheep()\n",
        "\n",
        "print(f\"Cow: {cow.sound()}\")   # Output: Cow: Moo\n",
        "print(f\"Sheep: {sheep.sound()}\") # Output: Sheep: Baa\"}\n"
      ],
      "metadata": {
        "colab": {
          "base_uri": "https://localhost:8080/"
        },
        "id": "3H9A-QE4U5is",
        "outputId": "602251ca-0fac-4534-ed60-8af5b568e220"
      },
      "execution_count": 70,
      "outputs": [
        {
          "output_type": "stream",
          "name": "stdout",
          "text": [
            "Cow: Moo\n",
            "Sheep: Baa\n",
            "Cow: Moo\n",
            "Sheep: Baa\n"
          ]
        }
      ]
    },
    {
      "cell_type": "code",
      "source": [
        "# Create a class Book with attributes title, author, and year_published. Add a method get_book_info() that\n",
        "# returns a formatted string with the book's details.\n",
        "\n",
        "class Book:\n",
        "    def __init__(self, title, author, year_published):\n",
        "        self.title = title\n",
        "        self.author = author\n",
        "        self.year_published = year_published\n",
        "\n",
        "    def get_book_info(self):\n",
        "        return f\"Title: {self.title}, Author: {self.author}, Year Published: {self.year_published}\"\n",
        "\n",
        "\n",
        "book1 = Book(\"To Kill a Mockingbird\", \"Harper Lee\", 1960)\n",
        "book2 = Book(\"1984\", \"George Orwell\", 1949)\n",
        "\n",
        "print(book1.get_book_info())\n",
        "print(book2.get_book_info())"
      ],
      "metadata": {
        "colab": {
          "base_uri": "https://localhost:8080/"
        },
        "id": "gD2D1HEgXo9Z",
        "outputId": "6e1099db-539a-4442-ae27-428f5737dc80"
      },
      "execution_count": 74,
      "outputs": [
        {
          "output_type": "stream",
          "name": "stdout",
          "text": [
            "Title: To Kill a Mockingbird, Author: Harper Lee, Year Published: 1960\n",
            "Title: 1984, Author: George Orwell, Year Published: 1949\n"
          ]
        }
      ]
    },
    {
      "cell_type": "code",
      "source": [
        "# Create a class House with attributes address and price. Create a derived class Mansion that adds an\n",
        "# attribute number_of_rooms\n",
        "\n",
        "class House:\n",
        "    def __init__(self, address, price):\n",
        "        self.address = address\n",
        "        self.price = price\n",
        "\n",
        "    def get_house_info(self):\n",
        "        return f\"Address: {self.address}, Price: ${self.price:,}\"\n",
        "\n",
        "class Mansion(House):\n",
        "    def __init__(self, address, price, number_of_rooms):\n",
        "        super().__init__(address, price)\n",
        "        self.number_of_rooms = number_of_rooms\n",
        "\n",
        "    def get_mansion_info(self):\n",
        "        return f\"{self.get_house_info()}, Number of Rooms: {self.number_of_rooms}\"\n",
        "\n",
        "# Example usage\n",
        "house = House(\"123 Main St\", 250000)\n",
        "mansion = Mansion(\"456 Luxury Ave\", 5000000, 12)\n",
        "\n",
        "print(house.get_house_info())  # Output: Address: 123 Main St, Price: $250,000\n",
        "print(mansion.get_mansion_info())  # Output: Address: 456 Luxury Ave, Price: $5,000,000, Number of Rooms: 12"
      ],
      "metadata": {
        "colab": {
          "base_uri": "https://localhost:8080/"
        },
        "id": "H4d9rN5ha6Qy",
        "outputId": "ea9486bd-b301-4fcb-db93-326d42edc0b6"
      },
      "execution_count": 80,
      "outputs": [
        {
          "output_type": "stream",
          "name": "stdout",
          "text": [
            "Address: 123 Main St, Price: $250,000\n",
            "Address: 456 Luxury Ave, Price: $5,000,000, Number of Rooms: 12\n"
          ]
        }
      ]
    },
    {
      "cell_type": "code",
      "source": [],
      "metadata": {
        "id": "RIMwlg_xbZYk"
      },
      "execution_count": null,
      "outputs": []
    }
  ]
}